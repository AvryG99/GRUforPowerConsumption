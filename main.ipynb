{
 "cells": [
  {
   "cell_type": "code",
   "execution_count": 1,
   "metadata": {},
   "outputs": [],
   "source": [
    "import tensorflow as tf\n",
    "import pandas as pd\n",
    "import numpy as np\n",
    "import matplotlib.pyplot as plt\n",
    "import matplotlib.dates as mdates\n",
    "from sklearn.preprocessing import MinMaxScaler\n",
    "from tensorflow import keras\n",
    "from keras.models import Sequential\n",
    "from keras.layers import Dense, Dropout,GRU\n",
    "from keras import optimizers \n",
    "from sklearn.metrics import mean_squared_error\n",
    "\n",
    "seed = 1234\n",
    "np.random.seed(seed)\n",
    "plt.style.use('ggplot')\n",
    "\n",
    "import warnings\n",
    "warnings.simplefilter(action='ignore', category=FutureWarning)\n",
    "from predata import Data"
   ]
  },
  {
   "cell_type": "code",
   "execution_count": 2,
   "metadata": {},
   "outputs": [],
   "source": [
    "temp_data = Data(file_name='Temp.csv', column_name='Temperature')\n",
    "temp_x_train = temp_data.x_train\n",
    "temp_x_test = temp_data.x_test\n",
    "temp_scaler = temp_data.scaler"
   ]
  },
  {
   "cell_type": "code",
   "execution_count": 3,
   "metadata": {},
   "outputs": [],
   "source": [
    "temp_model = keras.models.load_model('temp.h5')"
   ]
  },
  {
   "cell_type": "code",
   "execution_count": 73,
   "metadata": {},
   "outputs": [
    {
     "name": "stdout",
     "output_type": "stream",
     "text": [
      "1/1 [==============================] - 0s 28ms/step\n",
      "1/1 [==============================] - 0s 26ms/step\n",
      "1/1 [==============================] - 0s 26ms/step\n",
      "1/1 [==============================] - 0s 29ms/step\n",
      "1/1 [==============================] - 0s 29ms/step\n",
      "1/1 [==============================] - 0s 27ms/step\n"
     ]
    },
    {
     "data": {
      "text/plain": [
       "[0.09968745, 0.099860765, 0.09969474, 0.09971046, 0.099835075, 0.0999478]"
      ]
     },
     "execution_count": 73,
     "metadata": {},
     "output_type": "execute_result"
    }
   ],
   "source": [
    "n_ahead=6\n",
    "# Making the prediction list \n",
    "def predict_ahead(n_ahead, X_train):\n",
    "   yhat = []\n",
    "   for _ in range(n_ahead):\n",
    "   # Making the prediction\n",
    "       fc = temp_model.predict(X_train)\n",
    "       yhat.append(fc)\n",
    "\n",
    "   # Creating a new input matrix for forecasting\n",
    "       X_train = np.append(X_train, fc)\n",
    "\n",
    "   # Ommitting the first variable\n",
    "       X_train = np.delete(X_train, 0)\n",
    "\n",
    "   # Reshaping for the next iteration\n",
    "       X_train = np.reshape(X_train, (1, len(X_train), 1))\n",
    "\n",
    "   return yhat \n",
    "ypredict = predict_ahead(n_ahead, temp_x_test[len(temp_x_test)-6:])\n",
    "yhat = []\n",
    "\n",
    "for i in range(n_ahead):\n",
    "    yhat.append(ypredict[0][i][0])\n",
    "yhat =np.array(yhat).reshape(-1, 1)\n",
    "\n",
    "temp_yhat = temp_scaler.inverse_transform(yhat)\n",
    "temp = []\n",
    "for i in range(6):\n",
    "    temp.append(temp_yhat[i][0])\n",
    "temp"
   ]
  },
  {
   "cell_type": "code",
   "execution_count": 45,
   "metadata": {},
   "outputs": [
    {
     "data": {
      "text/plain": [
       "array([[2.8976915],\n",
       "       [2.8972383],\n",
       "       [2.8982842],\n",
       "       [2.8981936],\n",
       "       [2.8985631],\n",
       "       [2.8991768]], dtype=float32)"
      ]
     },
     "execution_count": 45,
     "metadata": {},
     "output_type": "execute_result"
    }
   ],
   "source": [
    "temp_yhat"
   ]
  },
  {
   "cell_type": "code",
   "execution_count": 56,
   "metadata": {},
   "outputs": [],
   "source": [
    "humd_data = Data(file_name='Humid.csv', column_name='Humidity')\n",
    "humd_x_train = humd_data.x_train\n",
    "humd_x_test = humd_data.x_test\n",
    "humd_scaler =humd_data.scaler"
   ]
  },
  {
   "cell_type": "code",
   "execution_count": 57,
   "metadata": {},
   "outputs": [],
   "source": [
    "humd_model = keras.models.load_model('humid.h5')"
   ]
  },
  {
   "cell_type": "code",
   "execution_count": 58,
   "metadata": {},
   "outputs": [
    {
     "name": "stdout",
     "output_type": "stream",
     "text": [
      "1/1 [==============================] - 0s 349ms/step\n",
      "1/1 [==============================] - 0s 354ms/step\n",
      "1/1 [==============================] - 0s 21ms/step\n",
      "1/1 [==============================] - 0s 26ms/step\n",
      "1/1 [==============================] - 0s 24ms/step\n",
      "1/1 [==============================] - 0s 38ms/step\n"
     ]
    },
    {
     "data": {
      "text/plain": [
       "[2.8976915, 2.8972383, 2.8982842, 2.8981936, 2.8985631, 2.8991768]"
      ]
     },
     "execution_count": 58,
     "metadata": {},
     "output_type": "execute_result"
    }
   ],
   "source": [
    "n_ahead=6\n",
    "# Making the prediction list \n",
    "def predict_ahead(n_ahead, X_train):\n",
    "   yhat = []\n",
    "   for _ in range(n_ahead):\n",
    "   # Making the prediction\n",
    "       fc = humd_model.predict(X_train)\n",
    "       yhat.append(fc)\n",
    "\n",
    "   # Creating a new input matrix for forecasting\n",
    "       X_train = np.append(X_train, fc)\n",
    "\n",
    "   # Ommitting the first variable\n",
    "       X_train = np.delete(X_train, 0)\n",
    "\n",
    "   # Reshaping for the next iteration\n",
    "       X_train = np.reshape(X_train, (1, len(X_train), 1))\n",
    "\n",
    "   return yhat \n",
    "ypredict = predict_ahead(n_ahead, temp_x_test[len(temp_x_test)-6:])\n",
    "yhat = []\n",
    "\n",
    "for i in range(n_ahead):\n",
    "    yhat.append(ypredict[0][i][0])\n",
    "yhat =np.array(yhat).reshape(-1, 1)\n",
    "\n",
    "humd_yhat = temp_scaler.inverse_transform(yhat)\n",
    "humd = []\n",
    "for i in range(6):\n",
    "    humd.append(temp_yhat[i][0])\n",
    "humd"
   ]
  },
  {
   "cell_type": "code",
   "execution_count": 59,
   "metadata": {},
   "outputs": [],
   "source": [
    "wind_data = Data(file_name='windspeed.csv', column_name='WindSpeed')\n",
    "wind_x_train = wind_data.x_train\n",
    "wind_x_test = wind_data.x_test\n",
    "wind_scaler = wind_data.scaler"
   ]
  },
  {
   "cell_type": "code",
   "execution_count": 60,
   "metadata": {},
   "outputs": [],
   "source": [
    "wind_model = keras.models.load_model('windspeed.h5')"
   ]
  },
  {
   "cell_type": "code",
   "execution_count": 74,
   "metadata": {},
   "outputs": [
    {
     "name": "stdout",
     "output_type": "stream",
     "text": [
      "1/1 [==============================] - 0s 29ms/step\n",
      "1/1 [==============================] - 0s 31ms/step\n",
      "1/1 [==============================] - 0s 56ms/step\n",
      "1/1 [==============================] - 0s 30ms/step\n",
      "1/1 [==============================] - 0s 29ms/step\n",
      "1/1 [==============================] - 0s 32ms/step\n"
     ]
    },
    {
     "data": {
      "text/plain": [
       "[0.09968745, 0.099860765, 0.09969474, 0.09971046, 0.099835075, 0.0999478]"
      ]
     },
     "execution_count": 74,
     "metadata": {},
     "output_type": "execute_result"
    }
   ],
   "source": [
    "n_ahead=6\n",
    "# Making the prediction list \n",
    "def predict_ahead(n_ahead, X_train):\n",
    "   yhat = []\n",
    "   for _ in range(n_ahead):\n",
    "   # Making the prediction\n",
    "       fc = temp_model.predict(X_train)\n",
    "       yhat.append(fc)\n",
    "\n",
    "   # Creating a new input matrix for forecasting\n",
    "       X_train = np.append(X_train, fc)\n",
    "\n",
    "   # Ommitting the first variable\n",
    "       X_train = np.delete(X_train, 0)\n",
    "\n",
    "   # Reshaping for the next iteration\n",
    "       X_train = np.reshape(X_train, (1, len(X_train), 1))\n",
    "\n",
    "   return yhat \n",
    "ypredict = predict_ahead(n_ahead, temp_x_test[len(temp_x_test)-6:])\n",
    "yhat = []\n",
    "\n",
    "for i in range(n_ahead):\n",
    "    yhat.append(ypredict[0][i][0])\n",
    "yhat =np.array(yhat).reshape(-1, 1)\n",
    "\n",
    "wind_yhat = temp_scaler.inverse_transform(yhat)\n",
    "wind = []\n",
    "for i in range(6):\n",
    "    wind.append(temp_yhat[i][0])\n",
    "wind"
   ]
  },
  {
   "cell_type": "code",
   "execution_count": 63,
   "metadata": {},
   "outputs": [],
   "source": [
    "gen_data = Data(file_name='gendiffuse.csv', column_name='GeneralDiffuseFlows')\n",
    "gen_data_x_train = gen_data.x_train\n",
    "gen_x_test = gen_data.x_test\n",
    "gen_scaler = gen_data.scaler"
   ]
  },
  {
   "cell_type": "code",
   "execution_count": 64,
   "metadata": {},
   "outputs": [],
   "source": [
    "gen_model = keras.models.load_model('windspeed.h5')"
   ]
  },
  {
   "cell_type": "code",
   "execution_count": 68,
   "metadata": {},
   "outputs": [
    {
     "name": "stdout",
     "output_type": "stream",
     "text": [
      "1/1 [==============================] - 0s 27ms/step\n",
      "1/1 [==============================] - 0s 25ms/step\n",
      "1/1 [==============================] - 0s 27ms/step\n",
      "1/1 [==============================] - 0s 34ms/step\n",
      "1/1 [==============================] - 0s 24ms/step\n",
      "1/1 [==============================] - 0s 24ms/step\n"
     ]
    },
    {
     "data": {
      "text/plain": [
       "[2.8976915, 2.8972383, 2.8982842, 2.8981936, 2.8985631, 2.8991768]"
      ]
     },
     "execution_count": 68,
     "metadata": {},
     "output_type": "execute_result"
    }
   ],
   "source": [
    "n_ahead=6\n",
    "# Making the prediction list \n",
    "def predict_ahead(n_ahead, X_train):\n",
    "   yhat = []\n",
    "   for _ in range(n_ahead):\n",
    "   # Making the prediction\n",
    "       fc = temp_model.predict(X_train)\n",
    "       yhat.append(fc)\n",
    "\n",
    "   # Creating a new input matrix for forecasting\n",
    "       X_train = np.append(X_train, fc)\n",
    "\n",
    "   # Ommitting the first variable\n",
    "       X_train = np.delete(X_train, 0)\n",
    "\n",
    "   # Reshaping for the next iteration\n",
    "       X_train = np.reshape(X_train, (1, len(X_train), 1))\n",
    "\n",
    "   return yhat \n",
    "ypredict = predict_ahead(n_ahead, gen_x_test[len(gen_x_test)-6:])\n",
    "yhat = []\n",
    "\n",
    "for i in range(n_ahead):\n",
    "    yhat.append(ypredict[0][i][0])\n",
    "yhat =np.array(yhat).reshape(-1, 1)\n",
    "\n",
    "gen_yhat = gen_scaler.inverse_transform(yhat)\n",
    "gen = []\n",
    "for i in range(6):\n",
    "    gen.append(temp_yhat[i][0])\n",
    "gen"
   ]
  },
  {
   "cell_type": "code",
   "execution_count": 69,
   "metadata": {},
   "outputs": [],
   "source": [
    "diff_data = Data(file_name='diffuse.csv', column_name='DiffuseFlows')\n",
    "diff_x_train = diff_data.x_train\n",
    "diff_x_test = diff_data.x_test\n",
    "diff_scaler = diff_data.scaler"
   ]
  },
  {
   "cell_type": "code",
   "execution_count": 70,
   "metadata": {},
   "outputs": [],
   "source": [
    "diff_model = keras.models.load_model('diff.h5')"
   ]
  },
  {
   "cell_type": "code",
   "execution_count": 71,
   "metadata": {},
   "outputs": [
    {
     "name": "stdout",
     "output_type": "stream",
     "text": [
      "1/1 [==============================] - 0s 27ms/step\n",
      "1/1 [==============================] - 0s 22ms/step\n",
      "1/1 [==============================] - 0s 23ms/step\n",
      "1/1 [==============================] - 0s 23ms/step\n",
      "1/1 [==============================] - 0s 21ms/step\n",
      "1/1 [==============================] - 0s 22ms/step\n",
      "<class 'list'>\n"
     ]
    }
   ],
   "source": [
    "n_ahead=6\n",
    "# Making the prediction list \n",
    "def predict_ahead(n_ahead, X_train):\n",
    "   yhat = []\n",
    "   for _ in range(n_ahead):\n",
    "   # Making the prediction\n",
    "       fc = temp_model.predict(X_train)\n",
    "       yhat.append(fc)\n",
    "\n",
    "   # Creating a new input matrix for forecasting\n",
    "       X_train = np.append(X_train, fc)\n",
    "\n",
    "   # Ommitting the first variable\n",
    "       X_train = np.delete(X_train, 0)\n",
    "\n",
    "   # Reshaping for the next iteration\n",
    "       X_train = np.reshape(X_train, (1, len(X_train), 1))\n",
    "\n",
    "   return yhat \n",
    "ypredict = predict_ahead(n_ahead, diff_x_test[len(diff_x_test)-6:])\n",
    "yhat = []\n",
    "\n",
    "for i in range(n_ahead):\n",
    "    yhat.append(ypredict[0][i][0])\n",
    "yhat =np.array(yhat).reshape(-1, 1)\n",
    "\n",
    "diff_yhat = diff_scaler.inverse_transform(yhat)\n",
    "diff = []\n",
    "for i in range(6):\n",
    "    diff.append(diff_yhat[i][0])\n",
    "diff\n",
    "print(type(diff))"
   ]
  },
  {
   "cell_type": "code",
   "execution_count": 76,
   "metadata": {},
   "outputs": [],
   "source": [
    "df = pd.DataFrame({\n",
    "    'Temperature': temp,\n",
    "    'Humidity': humd,\n",
    "    'Windspeed': wind,\n",
    "    'GeneralDiffuseFlows': gen,\n",
    "    'DiffuseFlows': diff\n",
    "})"
   ]
  },
  {
   "cell_type": "code",
   "execution_count": 77,
   "metadata": {},
   "outputs": [],
   "source": [
    "df.to_csv('output.csv', index=False)"
   ]
  },
  {
   "cell_type": "code",
   "execution_count": null,
   "metadata": {},
   "outputs": [],
   "source": []
  }
 ],
 "metadata": {
  "kernelspec": {
   "display_name": "Python 3.10.7 64-bit",
   "language": "python",
   "name": "python3"
  },
  "language_info": {
   "codemirror_mode": {
    "name": "ipython",
    "version": 3
   },
   "file_extension": ".py",
   "mimetype": "text/x-python",
   "name": "python",
   "nbconvert_exporter": "python",
   "pygments_lexer": "ipython3",
   "version": "3.10.7"
  },
  "orig_nbformat": 4,
  "vscode": {
   "interpreter": {
    "hash": "36cde56293490e079366a9e3f673860244ac2dfff5dc7b3c7a770ee33200b03f"
   }
  }
 },
 "nbformat": 4,
 "nbformat_minor": 2
}
