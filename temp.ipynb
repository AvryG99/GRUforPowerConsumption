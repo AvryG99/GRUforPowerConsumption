{
 "cells": [
  {
   "cell_type": "code",
   "execution_count": 1,
   "metadata": {},
   "outputs": [],
   "source": [
    "import tensorflow as tf\n",
    "import pandas as pd\n",
    "import numpy as np\n",
    "import matplotlib.pyplot as plt\n",
    "import matplotlib.dates as mdates\n",
    "from sklearn.preprocessing import MinMaxScaler\n",
    "from tensorflow import keras\n",
    "from keras.models import Sequential\n",
    "from keras.layers import Dense, Dropout,GRU\n",
    "from keras import optimizers \n",
    "from sklearn.metrics import mean_squared_error\n",
    "\n",
    "seed = 1234\n",
    "np.random.seed(seed)\n",
    "plt.style.use('ggplot')\n",
    "\n",
    "import warnings\n",
    "warnings.simplefilter(action='ignore', category=FutureWarning)"
   ]
  },
  {
   "cell_type": "code",
   "execution_count": 2,
   "metadata": {},
   "outputs": [],
   "source": [
    "from predata import Data\n",
    "data = Data('Temp.csv', column_name='Temperature')\n"
   ]
  },
  {
   "cell_type": "code",
   "execution_count": 3,
   "metadata": {},
   "outputs": [],
   "source": [
    "x_train = data.x_train\n",
    "y_train = data.y_train\n",
    "\n",
    "x_test = data.x_test\n",
    "y_test = data.y_test\n",
    "\n",
    "x_val = data.x_val\n",
    "y_val = data.y_val"
   ]
  },
  {
   "cell_type": "code",
   "execution_count": 4,
   "metadata": {},
   "outputs": [
    {
     "name": "stderr",
     "output_type": "stream",
     "text": [
      "WARNING:absl:`lr` is deprecated, please use `learning_rate` instead, or use the legacy optimizer, e.g.,tf.keras.optimizers.legacy.Adam.\n"
     ]
    },
    {
     "name": "stdout",
     "output_type": "stream",
     "text": [
      "Epoch 1/50\n",
      "1229/1229 [==============================] - 18s 8ms/step - loss: 0.0056 - val_loss: 1.0114e-04\n",
      "Epoch 2/50\n",
      "1229/1229 [==============================] - 9s 7ms/step - loss: 0.0015 - val_loss: 9.7467e-05\n",
      "Epoch 3/50\n",
      "1229/1229 [==============================] - 9s 7ms/step - loss: 9.4626e-04 - val_loss: 1.2484e-04\n",
      "Epoch 4/50\n",
      "1229/1229 [==============================] - 9s 8ms/step - loss: 6.9084e-04 - val_loss: 1.1029e-04\n",
      "Epoch 5/50\n",
      "1229/1229 [==============================] - 10s 8ms/step - loss: 6.1200e-04 - val_loss: 9.6544e-04\n",
      "Epoch 6/50\n",
      "1229/1229 [==============================] - 9s 7ms/step - loss: 5.6907e-04 - val_loss: 2.6305e-04\n",
      "Epoch 7/50\n",
      "1229/1229 [==============================] - 8s 7ms/step - loss: 5.5207e-04 - val_loss: 0.0015\n",
      "Epoch 8/50\n",
      "1229/1229 [==============================] - 8s 7ms/step - loss: 5.3796e-04 - val_loss: 7.5551e-04\n",
      "Epoch 9/50\n",
      "1229/1229 [==============================] - 8s 7ms/step - loss: 5.1606e-04 - val_loss: 8.7709e-04\n",
      "Epoch 10/50\n",
      "1229/1229 [==============================] - 9s 7ms/step - loss: 5.0330e-04 - val_loss: 6.3155e-04\n",
      "Epoch 11/50\n",
      "1229/1229 [==============================] - 8s 7ms/step - loss: 5.0072e-04 - val_loss: 5.4663e-04\n",
      "Epoch 12/50\n",
      "1229/1229 [==============================] - 8s 7ms/step - loss: 4.8391e-04 - val_loss: 4.8024e-04\n",
      "Epoch 13/50\n",
      "1229/1229 [==============================] - 8s 7ms/step - loss: 4.8381e-04 - val_loss: 3.2470e-04\n",
      "Epoch 14/50\n",
      "1229/1229 [==============================] - 8s 7ms/step - loss: 4.7423e-04 - val_loss: 0.0012\n",
      "Epoch 15/50\n",
      "1229/1229 [==============================] - 8s 7ms/step - loss: 4.6183e-04 - val_loss: 6.2138e-04\n",
      "Epoch 16/50\n",
      "1229/1229 [==============================] - 8s 7ms/step - loss: 4.6090e-04 - val_loss: 7.2784e-04\n",
      "Epoch 17/50\n",
      "1229/1229 [==============================] - 8s 7ms/step - loss: 4.4626e-04 - val_loss: 4.9668e-04\n",
      "Epoch 18/50\n",
      "1229/1229 [==============================] - 9s 7ms/step - loss: 4.4530e-04 - val_loss: 9.3751e-04\n",
      "Epoch 19/50\n",
      "1229/1229 [==============================] - 8s 7ms/step - loss: 4.5417e-04 - val_loss: 9.3270e-04\n",
      "Epoch 20/50\n",
      "1229/1229 [==============================] - 9s 7ms/step - loss: 4.4447e-04 - val_loss: 7.5996e-04\n",
      "Epoch 21/50\n",
      "1229/1229 [==============================] - 9s 8ms/step - loss: 4.2676e-04 - val_loss: 4.1358e-04\n",
      "Epoch 22/50\n",
      "1229/1229 [==============================] - 9s 7ms/step - loss: 4.3315e-04 - val_loss: 0.0011\n",
      "Epoch 23/50\n",
      "1229/1229 [==============================] - 9s 7ms/step - loss: 4.3091e-04 - val_loss: 0.0012\n",
      "Epoch 24/50\n",
      "1229/1229 [==============================] - 9s 7ms/step - loss: 4.2300e-04 - val_loss: 9.1796e-04\n",
      "Epoch 25/50\n",
      "1229/1229 [==============================] - 9s 7ms/step - loss: 4.1815e-04 - val_loss: 4.8693e-04\n",
      "Epoch 26/50\n",
      "1229/1229 [==============================] - 9s 7ms/step - loss: 4.1578e-04 - val_loss: 7.3956e-04\n",
      "Epoch 27/50\n",
      "1229/1229 [==============================] - 9s 7ms/step - loss: 4.2028e-04 - val_loss: 8.2816e-04\n",
      "Epoch 28/50\n",
      "1229/1229 [==============================] - 9s 7ms/step - loss: 4.1784e-04 - val_loss: 8.1764e-04\n",
      "Epoch 29/50\n",
      "1229/1229 [==============================] - 9s 7ms/step - loss: 4.0176e-04 - val_loss: 0.0012\n",
      "Epoch 30/50\n",
      "1229/1229 [==============================] - 9s 7ms/step - loss: 4.0343e-04 - val_loss: 9.9988e-04\n",
      "Epoch 31/50\n",
      "1229/1229 [==============================] - 9s 7ms/step - loss: 4.0671e-04 - val_loss: 7.4654e-04\n",
      "Epoch 32/50\n",
      "1229/1229 [==============================] - 9s 7ms/step - loss: 3.9820e-04 - val_loss: 0.0013\n",
      "Epoch 33/50\n",
      "1229/1229 [==============================] - 9s 7ms/step - loss: 4.0027e-04 - val_loss: 9.4332e-04\n",
      "Epoch 34/50\n",
      "1229/1229 [==============================] - 9s 7ms/step - loss: 4.0071e-04 - val_loss: 0.0012\n",
      "Epoch 35/50\n",
      "1229/1229 [==============================] - 8s 7ms/step - loss: 3.9597e-04 - val_loss: 5.0926e-04\n",
      "Epoch 36/50\n",
      "1229/1229 [==============================] - 9s 8ms/step - loss: 3.9779e-04 - val_loss: 0.0012\n",
      "Epoch 37/50\n",
      "1229/1229 [==============================] - 11s 9ms/step - loss: 3.9160e-04 - val_loss: 8.1334e-04\n",
      "Epoch 38/50\n",
      "1229/1229 [==============================] - 9s 7ms/step - loss: 3.8420e-04 - val_loss: 0.0010\n",
      "Epoch 39/50\n",
      "1229/1229 [==============================] - 10s 8ms/step - loss: 3.8357e-04 - val_loss: 0.0010\n",
      "Epoch 40/50\n",
      "1229/1229 [==============================] - 9s 8ms/step - loss: 3.7728e-04 - val_loss: 0.0017\n",
      "Epoch 41/50\n",
      "1229/1229 [==============================] - 9s 7ms/step - loss: 3.8034e-04 - val_loss: 8.1529e-04\n",
      "Epoch 42/50\n",
      "1229/1229 [==============================] - 10s 8ms/step - loss: 3.7952e-04 - val_loss: 9.9519e-04\n",
      "Epoch 43/50\n",
      "1229/1229 [==============================] - 9s 7ms/step - loss: 3.7822e-04 - val_loss: 0.0012\n",
      "Epoch 44/50\n",
      "1229/1229 [==============================] - 10s 8ms/step - loss: 3.8188e-04 - val_loss: 0.0011\n",
      "Epoch 45/50\n",
      "1229/1229 [==============================] - 10s 8ms/step - loss: 3.7982e-04 - val_loss: 0.0012\n",
      "Epoch 46/50\n",
      "1229/1229 [==============================] - 11s 9ms/step - loss: 3.8004e-04 - val_loss: 0.0011\n",
      "Epoch 47/50\n",
      "1229/1229 [==============================] - 13s 10ms/step - loss: 3.7905e-04 - val_loss: 9.9510e-04\n",
      "Epoch 48/50\n",
      "1229/1229 [==============================] - 12s 10ms/step - loss: 3.7439e-04 - val_loss: 0.0016\n",
      "Epoch 49/50\n",
      "1229/1229 [==============================] - 14s 12ms/step - loss: 3.6881e-04 - val_loss: 0.0011\n",
      "Epoch 50/50\n",
      "1229/1229 [==============================] - 11s 9ms/step - loss: 3.7315e-04 - val_loss: 0.0012\n"
     ]
    }
   ],
   "source": [
    "# Hyperparameters\n",
    "learning_rate = 0.0001\n",
    "hidden_unit = 64\n",
    "batch_size= 32\n",
    "epoch = 50\n",
    "\n",
    "# Architecture Gated Recurrent Unit\n",
    "regressorGRU = Sequential()\n",
    "\n",
    "# First GRU layer with dropout\n",
    "regressorGRU.add(GRU(units=hidden_unit, return_sequences=True, input_shape=(x_train.shape[1],1), activation = 'relu'))\n",
    "regressorGRU.add(Dropout(0.2))\n",
    "# Second GRU layer with dropout\n",
    "regressorGRU.add(GRU(units=hidden_unit, return_sequences=True, activation = 'relu'))\n",
    "regressorGRU.add(Dropout(0.2))\n",
    "# Third GRU layer with dropout\n",
    "regressorGRU.add(GRU(units=hidden_unit, return_sequences=False, activation = 'relu'))\n",
    "regressorGRU.add(Dropout(0.2))\n",
    "\n",
    "# Output layer\n",
    "regressorGRU.add(Dense(units=1))\n",
    "\n",
    "# Compiling the Gated Recurrent Unit\n",
    "regressorGRU.compile(optimizer=tf.keras.optimizers.Adam(lr=learning_rate),loss='mean_squared_error')\n",
    "\n",
    "# Fitting ke data training dan data validation\n",
    "pred = regressorGRU.fit(x_train, y_train, validation_data=(x_val,y_val), batch_size=batch_size, epochs=epoch)"
   ]
  },
  {
   "cell_type": "code",
   "execution_count": 5,
   "metadata": {},
   "outputs": [],
   "source": [
    "regressorGRU.save('temp.h5')"
   ]
  },
  {
   "cell_type": "code",
   "execution_count": null,
   "metadata": {},
   "outputs": [],
   "source": []
  }
 ],
 "metadata": {
  "kernelspec": {
   "display_name": "Python 3.10.7 64-bit",
   "language": "python",
   "name": "python3"
  },
  "language_info": {
   "codemirror_mode": {
    "name": "ipython",
    "version": 3
   },
   "file_extension": ".py",
   "mimetype": "text/x-python",
   "name": "python",
   "nbconvert_exporter": "python",
   "pygments_lexer": "ipython3",
   "version": "3.10.7"
  },
  "orig_nbformat": 4,
  "vscode": {
   "interpreter": {
    "hash": "36cde56293490e079366a9e3f673860244ac2dfff5dc7b3c7a770ee33200b03f"
   }
  }
 },
 "nbformat": 4,
 "nbformat_minor": 2
}
