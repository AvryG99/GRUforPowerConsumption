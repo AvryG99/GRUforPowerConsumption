{
 "cells": [
  {
   "cell_type": "code",
   "execution_count": 7,
   "metadata": {},
   "outputs": [],
   "source": [
    "import tensorflow as tf\n",
    "import pandas as pd\n",
    "import numpy as np\n",
    "import matplotlib.pyplot as plt\n",
    "import matplotlib.dates as mdates\n",
    "from sklearn.preprocessing import MinMaxScaler\n",
    "from tensorflow import keras\n",
    "from keras.models import Sequential\n",
    "from keras.layers import Dense, Dropout,GRU\n",
    "from keras import optimizers \n",
    "from sklearn.metrics import mean_squared_error\n",
    "\n",
    "seed = 1234\n",
    "np.random.seed(seed)\n",
    "plt.style.use('ggplot')\n",
    "\n",
    "import warnings\n",
    "warnings.simplefilter(action='ignore', category=FutureWarning)"
   ]
  },
  {
   "cell_type": "code",
   "execution_count": 8,
   "metadata": {},
   "outputs": [],
   "source": [
    "from predata import Data\n",
    "data = Data('windspeed.csv', column_name='WindSpeed')\n"
   ]
  },
  {
   "cell_type": "code",
   "execution_count": 9,
   "metadata": {},
   "outputs": [],
   "source": [
    "x_train = data.x_train\n",
    "y_train = data.y_train\n",
    "\n",
    "x_test = data.x_test\n",
    "y_test = data.y_test\n",
    "\n",
    "x_val = data.x_val\n",
    "y_val = data.y_val"
   ]
  },
  {
   "cell_type": "code",
   "execution_count": 10,
   "metadata": {},
   "outputs": [
    {
     "name": "stderr",
     "output_type": "stream",
     "text": [
      "WARNING:absl:`lr` is deprecated, please use `learning_rate` instead, or use the legacy optimizer, e.g.,tf.keras.optimizers.legacy.Adam.\n"
     ]
    },
    {
     "name": "stdout",
     "output_type": "stream",
     "text": [
      "Epoch 1/50\n",
      "1229/1229 [==============================] - 19s 9ms/step - loss: 0.0079 - val_loss: 7.7451e-04\n",
      "Epoch 2/50\n",
      "1229/1229 [==============================] - 12s 10ms/step - loss: 0.0027 - val_loss: 6.4111e-04\n",
      "Epoch 3/50\n",
      "1229/1229 [==============================] - 11s 9ms/step - loss: 0.0022 - val_loss: 6.8910e-04\n",
      "Epoch 4/50\n",
      "1229/1229 [==============================] - 11s 9ms/step - loss: 0.0021 - val_loss: 6.8488e-04\n",
      "Epoch 5/50\n",
      "1229/1229 [==============================] - 11s 9ms/step - loss: 0.0020 - val_loss: 5.7932e-04\n",
      "Epoch 6/50\n",
      "1229/1229 [==============================] - 11s 9ms/step - loss: 0.0020 - val_loss: 7.2261e-04\n",
      "Epoch 7/50\n",
      "1229/1229 [==============================] - 12s 10ms/step - loss: 0.0019 - val_loss: 6.7420e-04\n",
      "Epoch 8/50\n",
      "1229/1229 [==============================] - 13s 10ms/step - loss: 0.0020 - val_loss: 6.8401e-04\n",
      "Epoch 9/50\n",
      "1229/1229 [==============================] - 12s 10ms/step - loss: 0.0020 - val_loss: 5.9476e-04\n",
      "Epoch 10/50\n",
      "1229/1229 [==============================] - 11s 9ms/step - loss: 0.0019 - val_loss: 7.0572e-04\n",
      "Epoch 11/50\n",
      "1229/1229 [==============================] - 10s 8ms/step - loss: 0.0019 - val_loss: 5.0109e-04\n",
      "Epoch 12/50\n",
      "1229/1229 [==============================] - 8s 7ms/step - loss: 0.0019 - val_loss: 5.8815e-04\n",
      "Epoch 13/50\n",
      "1229/1229 [==============================] - 8s 6ms/step - loss: 0.0019 - val_loss: 5.7441e-04\n",
      "Epoch 14/50\n",
      "1229/1229 [==============================] - 8s 6ms/step - loss: 0.0019 - val_loss: 5.3944e-04\n",
      "Epoch 15/50\n",
      "1229/1229 [==============================] - 8s 6ms/step - loss: 0.0018 - val_loss: 6.1232e-04\n",
      "Epoch 16/50\n",
      "1229/1229 [==============================] - 8s 7ms/step - loss: 0.0018 - val_loss: 6.1335e-04\n",
      "Epoch 17/50\n",
      "1229/1229 [==============================] - 8s 6ms/step - loss: 0.0019 - val_loss: 6.4323e-04\n",
      "Epoch 18/50\n",
      "1229/1229 [==============================] - 8s 7ms/step - loss: 0.0018 - val_loss: 5.7625e-04\n",
      "Epoch 19/50\n",
      "1229/1229 [==============================] - 8s 7ms/step - loss: 0.0018 - val_loss: 5.3178e-04\n",
      "Epoch 20/50\n",
      "1229/1229 [==============================] - 8s 7ms/step - loss: 0.0019 - val_loss: 5.3997e-04\n",
      "Epoch 21/50\n",
      "1229/1229 [==============================] - 8s 7ms/step - loss: 0.0018 - val_loss: 5.9593e-04\n",
      "Epoch 22/50\n",
      "1229/1229 [==============================] - 8s 7ms/step - loss: 0.0018 - val_loss: 5.3323e-04\n",
      "Epoch 23/50\n",
      "1229/1229 [==============================] - 8s 7ms/step - loss: 0.0018 - val_loss: 5.3944e-04\n",
      "Epoch 24/50\n",
      "1229/1229 [==============================] - 8s 6ms/step - loss: 0.0018 - val_loss: 5.2445e-04\n",
      "Epoch 25/50\n",
      "1229/1229 [==============================] - 9s 7ms/step - loss: 0.0018 - val_loss: 5.6957e-04\n",
      "Epoch 26/50\n",
      "1229/1229 [==============================] - 8s 6ms/step - loss: 0.0018 - val_loss: 6.0058e-04\n",
      "Epoch 27/50\n",
      "1229/1229 [==============================] - 8s 7ms/step - loss: 0.0018 - val_loss: 5.3269e-04\n",
      "Epoch 28/50\n",
      "1229/1229 [==============================] - 8s 7ms/step - loss: 0.0018 - val_loss: 6.3673e-04\n",
      "Epoch 29/50\n",
      "1229/1229 [==============================] - 10s 8ms/step - loss: 0.0019 - val_loss: 6.0702e-04\n",
      "Epoch 30/50\n",
      "1229/1229 [==============================] - 8s 6ms/step - loss: 0.0018 - val_loss: 5.1120e-04\n",
      "Epoch 31/50\n",
      "1229/1229 [==============================] - 8s 6ms/step - loss: 0.0018 - val_loss: 6.5139e-04\n",
      "Epoch 32/50\n",
      "1229/1229 [==============================] - 8s 6ms/step - loss: 0.0018 - val_loss: 5.6382e-04\n",
      "Epoch 33/50\n",
      "1229/1229 [==============================] - 8s 7ms/step - loss: 0.0018 - val_loss: 5.7307e-04\n",
      "Epoch 34/50\n",
      "1229/1229 [==============================] - 8s 6ms/step - loss: 0.0018 - val_loss: 5.6145e-04\n",
      "Epoch 35/50\n",
      "1229/1229 [==============================] - 8s 7ms/step - loss: 0.0018 - val_loss: 6.5116e-04\n",
      "Epoch 36/50\n",
      "1229/1229 [==============================] - 9s 8ms/step - loss: 0.0018 - val_loss: 6.0712e-04\n",
      "Epoch 37/50\n",
      "1229/1229 [==============================] - 8s 6ms/step - loss: 0.0018 - val_loss: 5.5120e-04\n",
      "Epoch 38/50\n",
      "1229/1229 [==============================] - 6s 5ms/step - loss: 0.0018 - val_loss: 7.9058e-04\n",
      "Epoch 39/50\n",
      "1229/1229 [==============================] - 6s 5ms/step - loss: 0.0018 - val_loss: 5.3274e-04\n",
      "Epoch 40/50\n",
      "1229/1229 [==============================] - 6s 5ms/step - loss: 0.0018 - val_loss: 5.2313e-04\n",
      "Epoch 41/50\n",
      "1229/1229 [==============================] - 6s 5ms/step - loss: 0.0018 - val_loss: 5.2200e-04\n",
      "Epoch 42/50\n",
      "1229/1229 [==============================] - 6s 5ms/step - loss: 0.0018 - val_loss: 5.8929e-04\n",
      "Epoch 43/50\n",
      "1229/1229 [==============================] - 6s 5ms/step - loss: 0.0018 - val_loss: 5.8899e-04\n",
      "Epoch 44/50\n",
      "1229/1229 [==============================] - 6s 5ms/step - loss: 0.0018 - val_loss: 5.5948e-04\n",
      "Epoch 45/50\n",
      "1229/1229 [==============================] - 6s 5ms/step - loss: 0.0018 - val_loss: 5.6807e-04\n",
      "Epoch 46/50\n",
      "1229/1229 [==============================] - 6s 5ms/step - loss: 0.0018 - val_loss: 6.9402e-04\n",
      "Epoch 47/50\n",
      "1229/1229 [==============================] - 6s 5ms/step - loss: 0.0018 - val_loss: 6.4524e-04\n",
      "Epoch 48/50\n",
      "1229/1229 [==============================] - 6s 5ms/step - loss: 0.0018 - val_loss: 6.5603e-04\n",
      "Epoch 49/50\n",
      "1229/1229 [==============================] - 6s 5ms/step - loss: 0.0018 - val_loss: 6.3280e-04\n",
      "Epoch 50/50\n",
      "1229/1229 [==============================] - 6s 5ms/step - loss: 0.0018 - val_loss: 6.6130e-04\n"
     ]
    }
   ],
   "source": [
    "# Hyperparameters\n",
    "learning_rate = 0.0001\n",
    "hidden_unit = 64\n",
    "batch_size= 32\n",
    "epoch = 50\n",
    "\n",
    "# Architecture Gated Recurrent Unit\n",
    "regressorGRU = Sequential()\n",
    "\n",
    "# First GRU layer with dropout\n",
    "regressorGRU.add(GRU(units=hidden_unit, return_sequences=True, input_shape=(x_train.shape[1],1), activation = 'relu'))\n",
    "regressorGRU.add(Dropout(0.2))\n",
    "# Second GRU layer with dropout\n",
    "regressorGRU.add(GRU(units=hidden_unit, return_sequences=True, activation = 'relu'))\n",
    "regressorGRU.add(Dropout(0.2))\n",
    "# Third GRU layer with dropout\n",
    "regressorGRU.add(GRU(units=hidden_unit, return_sequences=False, activation = 'relu'))\n",
    "regressorGRU.add(Dropout(0.2))\n",
    "\n",
    "# Output layer\n",
    "regressorGRU.add(Dense(units=1))\n",
    "\n",
    "# Compiling the Gated Recurrent Unit\n",
    "regressorGRU.compile(optimizer=tf.keras.optimizers.Adam(lr=learning_rate),loss='mean_squared_error')\n",
    "\n",
    "# Fitting ke data training dan data validation\n",
    "pred = regressorGRU.fit(x_train, y_train, validation_data=(x_val,y_val), batch_size=batch_size, epochs=epoch)"
   ]
  },
  {
   "cell_type": "code",
   "execution_count": 11,
   "metadata": {},
   "outputs": [],
   "source": [
    "regressorGRU.save('windspeed.h5')"
   ]
  },
  {
   "cell_type": "code",
   "execution_count": 13,
   "metadata": {},
   "outputs": [
    {
     "name": "stdout",
     "output_type": "stream",
     "text": [
      "246/246 [==============================] - 1s 3ms/step\n"
     ]
    }
   ],
   "source": [
    "y_pred_test = regressorGRU.predict(x_test)"
   ]
  },
  {
   "cell_type": "code",
   "execution_count": 14,
   "metadata": {},
   "outputs": [],
   "source": [
    "# Invert normalization min-max\n",
    "y_pred_invert_norm = data.scaler.inverse_transform(y_pred_test)"
   ]
  },
  {
   "cell_type": "code",
   "execution_count": 17,
   "metadata": {},
   "outputs": [
    {
     "data": {
      "text/plain": [
       "16103.691464022071"
      ]
     },
     "execution_count": 17,
     "metadata": {},
     "output_type": "execute_result"
    }
   ],
   "source": [
    "def MAPE(Y_actual,Y_Predicted):\n",
    "    mape = np.mean(np.abs((Y_actual - Y_Predicted)/Y_actual))*100\n",
    "    return mape\n",
    "MAPE(y_test, y_pred_invert_norm)"
   ]
  },
  {
   "cell_type": "code",
   "execution_count": 18,
   "metadata": {},
   "outputs": [
    {
     "data": {
      "text/plain": [
       "0.7062990806259337"
      ]
     },
     "execution_count": 18,
     "metadata": {},
     "output_type": "execute_result"
    }
   ],
   "source": [
    "from sklearn.metrics import mean_absolute_error\n",
    "\n",
    "mean_absolute_error(\n",
    "    y_true=y_test,\n",
    "    y_pred=y_pred_invert_norm\n",
    ")"
   ]
  },
  {
   "cell_type": "code",
   "execution_count": null,
   "metadata": {},
   "outputs": [],
   "source": []
  }
 ],
 "metadata": {
  "kernelspec": {
   "display_name": "Python 3.10.7 64-bit",
   "language": "python",
   "name": "python3"
  },
  "language_info": {
   "codemirror_mode": {
    "name": "ipython",
    "version": 3
   },
   "file_extension": ".py",
   "mimetype": "text/x-python",
   "name": "python",
   "nbconvert_exporter": "python",
   "pygments_lexer": "ipython3",
   "version": "3.10.7"
  },
  "orig_nbformat": 4,
  "vscode": {
   "interpreter": {
    "hash": "36cde56293490e079366a9e3f673860244ac2dfff5dc7b3c7a770ee33200b03f"
   }
  }
 },
 "nbformat": 4,
 "nbformat_minor": 2
}
