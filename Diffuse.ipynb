{
 "cells": [
  {
   "cell_type": "code",
   "execution_count": 10,
   "metadata": {},
   "outputs": [],
   "source": [
    "import tensorflow as tf\n",
    "import pandas as pd\n",
    "import numpy as np\n",
    "import matplotlib.pyplot as plt\n",
    "import matplotlib.dates as mdates\n",
    "from sklearn.preprocessing import MinMaxScaler\n",
    "from tensorflow import keras\n",
    "from keras.models import Sequential\n",
    "from keras.layers import Dense, Dropout,GRU\n",
    "from keras import optimizers \n",
    "from sklearn.metrics import mean_squared_error\n",
    "\n",
    "seed = 1234\n",
    "np.random.seed(seed)\n",
    "plt.style.use('ggplot')\n",
    "\n",
    "import warnings\n",
    "warnings.simplefilter(action='ignore', category=FutureWarning)"
   ]
  },
  {
   "cell_type": "code",
   "execution_count": 11,
   "metadata": {},
   "outputs": [],
   "source": [
    "from predata import Data\n",
    "\n",
    "data = Data(file_name='diffuse.csv', column_name='DiffuseFlows')"
   ]
  },
  {
   "cell_type": "code",
   "execution_count": 12,
   "metadata": {},
   "outputs": [],
   "source": [
    "x_train = data.x_train\n",
    "y_train = data.y_train\n",
    "\n",
    "x_test = data.x_test\n",
    "y_test = data.y_test\n",
    "\n",
    "x_val = data.x_val\n",
    "y_val = data.y_val"
   ]
  },
  {
   "cell_type": "code",
   "execution_count": 13,
   "metadata": {},
   "outputs": [
    {
     "name": "stderr",
     "output_type": "stream",
     "text": [
      "WARNING:absl:`lr` is deprecated, please use `learning_rate` instead, or use the legacy optimizer, e.g.,tf.keras.optimizers.legacy.Adam.\n"
     ]
    },
    {
     "name": "stdout",
     "output_type": "stream",
     "text": [
      "Epoch 1/50\n",
      "1229/1229 [==============================] - 12s 6ms/step - loss: 0.0026 - val_loss: 9.4641e-04\n",
      "Epoch 2/50\n",
      "1229/1229 [==============================] - 8s 6ms/step - loss: 0.0017 - val_loss: 9.0833e-04\n",
      "Epoch 3/50\n",
      "1229/1229 [==============================] - 7s 6ms/step - loss: 0.0016 - val_loss: 8.3767e-04\n",
      "Epoch 4/50\n",
      "1229/1229 [==============================] - 7s 6ms/step - loss: 0.0015 - val_loss: 8.2024e-04\n",
      "Epoch 5/50\n",
      "1229/1229 [==============================] - 7s 6ms/step - loss: 0.0015 - val_loss: 8.8139e-04\n",
      "Epoch 6/50\n",
      "1229/1229 [==============================] - 7s 6ms/step - loss: 0.0015 - val_loss: 8.4392e-04\n",
      "Epoch 7/50\n",
      "1229/1229 [==============================] - 8s 7ms/step - loss: 0.0015 - val_loss: 8.6578e-04\n",
      "Epoch 8/50\n",
      "1229/1229 [==============================] - 7s 6ms/step - loss: 0.0014 - val_loss: 8.0754e-04\n",
      "Epoch 9/50\n",
      "1229/1229 [==============================] - 8s 6ms/step - loss: 0.0014 - val_loss: 8.3452e-04\n",
      "Epoch 10/50\n",
      "1229/1229 [==============================] - 7s 6ms/step - loss: 0.0014 - val_loss: 8.2409e-04\n",
      "Epoch 11/50\n",
      "1229/1229 [==============================] - 7s 6ms/step - loss: 0.0014 - val_loss: 8.2296e-04\n",
      "Epoch 12/50\n",
      "1229/1229 [==============================] - 8s 6ms/step - loss: 0.0014 - val_loss: 8.7063e-04\n",
      "Epoch 13/50\n",
      "1229/1229 [==============================] - 7s 6ms/step - loss: 0.0014 - val_loss: 8.8985e-04\n",
      "Epoch 14/50\n",
      "1229/1229 [==============================] - 8s 6ms/step - loss: 0.0014 - val_loss: 0.0010\n",
      "Epoch 15/50\n",
      "1229/1229 [==============================] - 7s 6ms/step - loss: 0.0014 - val_loss: 9.5281e-04\n",
      "Epoch 16/50\n",
      "1229/1229 [==============================] - 8s 7ms/step - loss: 0.0014 - val_loss: 8.2471e-04\n",
      "Epoch 17/50\n",
      "1229/1229 [==============================] - 8s 6ms/step - loss: 0.0014 - val_loss: 8.0091e-04\n",
      "Epoch 18/50\n",
      "1229/1229 [==============================] - 7s 6ms/step - loss: 0.0014 - val_loss: 8.4313e-04\n",
      "Epoch 19/50\n",
      "1229/1229 [==============================] - 7s 6ms/step - loss: 0.0014 - val_loss: 8.4420e-04\n",
      "Epoch 20/50\n",
      "1229/1229 [==============================] - 8s 6ms/step - loss: 0.0014 - val_loss: 8.7621e-04\n",
      "Epoch 21/50\n",
      "1229/1229 [==============================] - 8s 6ms/step - loss: 0.0014 - val_loss: 8.5711e-04\n",
      "Epoch 22/50\n",
      "1229/1229 [==============================] - 8s 7ms/step - loss: 0.0014 - val_loss: 8.9081e-04\n",
      "Epoch 23/50\n",
      "1229/1229 [==============================] - 8s 7ms/step - loss: 0.0013 - val_loss: 8.6464e-04\n",
      "Epoch 24/50\n",
      "1229/1229 [==============================] - 7s 6ms/step - loss: 0.0013 - val_loss: 9.6051e-04\n",
      "Epoch 25/50\n",
      "1229/1229 [==============================] - 8s 6ms/step - loss: 0.0014 - val_loss: 8.0853e-04\n",
      "Epoch 26/50\n",
      "1229/1229 [==============================] - 7s 6ms/step - loss: 0.0013 - val_loss: 8.5252e-04\n",
      "Epoch 27/50\n",
      "1229/1229 [==============================] - 7s 6ms/step - loss: 0.0013 - val_loss: 8.3980e-04\n",
      "Epoch 28/50\n",
      "1229/1229 [==============================] - 7s 6ms/step - loss: 0.0013 - val_loss: 9.1497e-04\n",
      "Epoch 29/50\n",
      "1229/1229 [==============================] - 9s 7ms/step - loss: 0.0013 - val_loss: 8.3667e-04\n",
      "Epoch 30/50\n",
      "1229/1229 [==============================] - 8s 6ms/step - loss: 0.0013 - val_loss: 8.5359e-04\n",
      "Epoch 31/50\n",
      "1229/1229 [==============================] - 7s 6ms/step - loss: 0.0014 - val_loss: 8.2698e-04\n",
      "Epoch 32/50\n",
      "1229/1229 [==============================] - 8s 6ms/step - loss: 0.0013 - val_loss: 8.8786e-04\n",
      "Epoch 33/50\n",
      "1229/1229 [==============================] - 7s 6ms/step - loss: 0.0013 - val_loss: 8.6194e-04\n",
      "Epoch 34/50\n",
      "1229/1229 [==============================] - 8s 6ms/step - loss: 0.0013 - val_loss: 8.0486e-04\n",
      "Epoch 35/50\n",
      "1229/1229 [==============================] - 7s 6ms/step - loss: 0.0014 - val_loss: 8.3783e-04\n",
      "Epoch 36/50\n",
      "1229/1229 [==============================] - 8s 6ms/step - loss: 0.0013 - val_loss: 8.0563e-04\n",
      "Epoch 37/50\n",
      "1229/1229 [==============================] - 8s 7ms/step - loss: 0.0013 - val_loss: 8.7021e-04\n",
      "Epoch 38/50\n",
      "1229/1229 [==============================] - 7s 6ms/step - loss: 0.0013 - val_loss: 8.1472e-04\n",
      "Epoch 39/50\n",
      "1229/1229 [==============================] - 8s 7ms/step - loss: 0.0013 - val_loss: 8.2278e-04\n",
      "Epoch 40/50\n",
      "1229/1229 [==============================] - 7s 6ms/step - loss: 0.0013 - val_loss: 0.0010\n",
      "Epoch 41/50\n",
      "1229/1229 [==============================] - 8s 6ms/step - loss: 0.0013 - val_loss: 8.1571e-04\n",
      "Epoch 42/50\n",
      "1229/1229 [==============================] - 8s 6ms/step - loss: 0.0013 - val_loss: 9.1370e-04\n",
      "Epoch 43/50\n",
      "1229/1229 [==============================] - 7s 5ms/step - loss: 0.0013 - val_loss: 8.3520e-04\n",
      "Epoch 44/50\n",
      "1229/1229 [==============================] - 7s 6ms/step - loss: 0.0013 - val_loss: 9.2592e-04\n",
      "Epoch 45/50\n",
      "1229/1229 [==============================] - 8s 6ms/step - loss: 0.0013 - val_loss: 9.3640e-04\n",
      "Epoch 46/50\n",
      "1229/1229 [==============================] - 8s 6ms/step - loss: 0.0013 - val_loss: 8.2213e-04\n",
      "Epoch 47/50\n",
      "1229/1229 [==============================] - 8s 6ms/step - loss: 0.0013 - val_loss: 8.4868e-04\n",
      "Epoch 48/50\n",
      "1229/1229 [==============================] - 7s 6ms/step - loss: 0.0013 - val_loss: 8.2892e-04\n",
      "Epoch 49/50\n",
      "1229/1229 [==============================] - 7s 6ms/step - loss: 0.0013 - val_loss: 8.5546e-04\n",
      "Epoch 50/50\n",
      "1229/1229 [==============================] - 8s 6ms/step - loss: 0.0013 - val_loss: 8.0791e-04\n"
     ]
    }
   ],
   "source": [
    "# Hyperparameters\n",
    "learning_rate = 0.0001\n",
    "hidden_unit = 64\n",
    "batch_size= 32\n",
    "epoch = 50\n",
    "\n",
    "# Architecture Gated Recurrent Unit\n",
    "regressorGRU = Sequential()\n",
    "\n",
    "# First GRU layer with dropout\n",
    "regressorGRU.add(GRU(units=hidden_unit, return_sequences=True, input_shape=(x_train.shape[1],1), activation = 'relu'))\n",
    "regressorGRU.add(Dropout(0.2))\n",
    "# Second GRU layer with dropout\n",
    "regressorGRU.add(GRU(units=hidden_unit, return_sequences=True, activation = 'relu'))\n",
    "regressorGRU.add(Dropout(0.2))\n",
    "# Third GRU layer with dropout\n",
    "regressorGRU.add(GRU(units=hidden_unit, return_sequences=False, activation = 'relu'))\n",
    "regressorGRU.add(Dropout(0.2))\n",
    "\n",
    "# Output layer\n",
    "regressorGRU.add(Dense(units=1))\n",
    "\n",
    "# Compiling the Gated Recurrent Unit\n",
    "regressorGRU.compile(optimizer=tf.keras.optimizers.Adam(lr=learning_rate),loss='mean_squared_error')\n",
    "\n",
    "# Fitting ke data training dan data validation\n",
    "pred = regressorGRU.fit(x_train, y_train, validation_data=(x_val,y_val), batch_size=batch_size, epochs=epoch)"
   ]
  },
  {
   "cell_type": "code",
   "execution_count": 14,
   "metadata": {},
   "outputs": [],
   "source": [
    "regressorGRU.save('diff.h5')"
   ]
  },
  {
   "cell_type": "code",
   "execution_count": null,
   "metadata": {},
   "outputs": [],
   "source": []
  }
 ],
 "metadata": {
  "kernelspec": {
   "display_name": "Python 3.10.7 64-bit",
   "language": "python",
   "name": "python3"
  },
  "language_info": {
   "codemirror_mode": {
    "name": "ipython",
    "version": 3
   },
   "file_extension": ".py",
   "mimetype": "text/x-python",
   "name": "python",
   "nbconvert_exporter": "python",
   "pygments_lexer": "ipython3",
   "version": "3.10.7"
  },
  "orig_nbformat": 4,
  "vscode": {
   "interpreter": {
    "hash": "36cde56293490e079366a9e3f673860244ac2dfff5dc7b3c7a770ee33200b03f"
   }
  }
 },
 "nbformat": 4,
 "nbformat_minor": 2
}
