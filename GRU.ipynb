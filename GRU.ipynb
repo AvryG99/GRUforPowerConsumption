{
 "cells": [
  {
   "cell_type": "code",
   "execution_count": 1,
   "metadata": {},
   "outputs": [],
   "source": [
    "import tensorflow as tf\n",
    "import pandas as pd\n",
    "import numpy as np\n",
    "import matplotlib.pyplot as plt\n",
    "import matplotlib.dates as mdates\n",
    "from sklearn.preprocessing import MinMaxScaler\n",
    "from sklearn.model_selection import train_test_split\n",
    "from tensorflow import keras\n",
    "from keras.models import Sequential\n",
    "from keras.layers import Dense, Dropout,GRU, LSTM\n",
    "from keras import optimizers \n",
    "from sklearn.metrics import mean_squared_error\n",
    "\n",
    "seed = 1234\n",
    "np.random.seed(seed)\n",
    "plt.style.use('ggplot')\n",
    "\n",
    "import warnings\n",
    "warnings.simplefilter(action='ignore', category=FutureWarning)"
   ]
  },
  {
   "cell_type": "code",
   "execution_count": 2,
   "metadata": {},
   "outputs": [],
   "source": [
    "data = pd.read_csv(\"powerconsumption.csv\", index_col=\"Datetime\", parse_dates=[\"Datetime\"])\n",
    "factors = data[['Temperature', 'Humidity', 'WindSpeed', 'GeneralDiffuseFlows', 'DiffuseFlows']]\n",
    "target = data['PowerConsumption_Zone1']"
   ]
  },
  {
   "cell_type": "code",
   "execution_count": 3,
   "metadata": {},
   "outputs": [],
   "source": [
    "# Normalize the data\n",
    "scaler = MinMaxScaler()\n",
    "scaled_factors = scaler.fit_transform(factors)\n",
    "scaled_target = scaler.fit_transform(target.values.reshape(-1, 1))"
   ]
  },
  {
   "cell_type": "code",
   "execution_count": 4,
   "metadata": {},
   "outputs": [],
   "source": [
    "# Split the data into train, test, and validation sets\n",
    "train_data, temp_data, train_target, temp_target = train_test_split(scaled_factors, scaled_target, test_size=0.2, random_state=42)\n",
    "test_data, val_data, test_target, val_target = train_test_split(temp_data, temp_target, test_size=0.5, random_state=42)"
   ]
  },
  {
   "cell_type": "code",
   "execution_count": 5,
   "metadata": {},
   "outputs": [],
   "source": [
    "# Reshape the data for the GRU model\n",
    "train_data = np.reshape(train_data, (train_data.shape[0], 1, train_data.shape[1]))\n",
    "test_data = np.reshape(test_data, (test_data.shape[0], 1, test_data.shape[1]))\n",
    "val_data = np.reshape(val_data, (val_data.shape[0], 1, val_data.shape[1]))"
   ]
  },
  {
   "cell_type": "code",
   "execution_count": 7,
   "metadata": {},
   "outputs": [
    {
     "name": "stdout",
     "output_type": "stream",
     "text": [
      "Epoch 1/50\n",
      "2621/2621 [==============================] - 9s 3ms/step - loss: 0.0321 - val_loss: 0.0269\n",
      "Epoch 2/50\n",
      "2621/2621 [==============================] - 7s 3ms/step - loss: 0.0282 - val_loss: 0.0265\n",
      "Epoch 3/50\n",
      "2621/2621 [==============================] - 7s 3ms/step - loss: 0.0275 - val_loss: 0.0267\n",
      "Epoch 4/50\n",
      "2621/2621 [==============================] - 7s 3ms/step - loss: 0.0273 - val_loss: 0.0264\n",
      "Epoch 5/50\n",
      "2621/2621 [==============================] - 7s 3ms/step - loss: 0.0271 - val_loss: 0.0261\n",
      "Epoch 6/50\n",
      "2621/2621 [==============================] - 8s 3ms/step - loss: 0.0270 - val_loss: 0.0265\n",
      "Epoch 7/50\n",
      "2621/2621 [==============================] - 7s 3ms/step - loss: 0.0269 - val_loss: 0.0259\n",
      "Epoch 8/50\n",
      "2621/2621 [==============================] - 7s 3ms/step - loss: 0.0268 - val_loss: 0.0258\n",
      "Epoch 9/50\n",
      "2621/2621 [==============================] - 7s 3ms/step - loss: 0.0267 - val_loss: 0.0260\n",
      "Epoch 10/50\n",
      "2621/2621 [==============================] - 7s 3ms/step - loss: 0.0267 - val_loss: 0.0257\n",
      "Epoch 11/50\n",
      "2621/2621 [==============================] - 6s 2ms/step - loss: 0.0266 - val_loss: 0.0274\n",
      "Epoch 12/50\n",
      "2621/2621 [==============================] - 6s 2ms/step - loss: 0.0266 - val_loss: 0.0258\n",
      "Epoch 13/50\n",
      "2621/2621 [==============================] - 7s 3ms/step - loss: 0.0266 - val_loss: 0.0255\n",
      "Epoch 14/50\n",
      "2621/2621 [==============================] - 6s 2ms/step - loss: 0.0266 - val_loss: 0.0255\n",
      "Epoch 15/50\n",
      "2621/2621 [==============================] - 7s 2ms/step - loss: 0.0265 - val_loss: 0.0256\n",
      "Epoch 16/50\n",
      "2621/2621 [==============================] - 7s 3ms/step - loss: 0.0265 - val_loss: 0.0255\n",
      "Epoch 17/50\n",
      "2621/2621 [==============================] - 6s 2ms/step - loss: 0.0264 - val_loss: 0.0255\n",
      "Epoch 18/50\n",
      "2621/2621 [==============================] - 6s 2ms/step - loss: 0.0264 - val_loss: 0.0254\n",
      "Epoch 19/50\n",
      "2621/2621 [==============================] - 7s 3ms/step - loss: 0.0264 - val_loss: 0.0255\n",
      "Epoch 20/50\n",
      "2621/2621 [==============================] - 8s 3ms/step - loss: 0.0264 - val_loss: 0.0256\n",
      "Epoch 21/50\n",
      "2621/2621 [==============================] - 8s 3ms/step - loss: 0.0263 - val_loss: 0.0255\n",
      "Epoch 22/50\n",
      "2621/2621 [==============================] - 8s 3ms/step - loss: 0.0263 - val_loss: 0.0253\n",
      "Epoch 23/50\n",
      "2621/2621 [==============================] - 7s 3ms/step - loss: 0.0263 - val_loss: 0.0258\n",
      "Epoch 24/50\n",
      "2621/2621 [==============================] - 7s 3ms/step - loss: 0.0262 - val_loss: 0.0255\n",
      "Epoch 25/50\n",
      "2621/2621 [==============================] - 7s 3ms/step - loss: 0.0262 - val_loss: 0.0253\n",
      "Epoch 26/50\n",
      "2621/2621 [==============================] - 7s 3ms/step - loss: 0.0262 - val_loss: 0.0254\n",
      "Epoch 27/50\n",
      "2621/2621 [==============================] - 7s 3ms/step - loss: 0.0262 - val_loss: 0.0252\n",
      "Epoch 28/50\n",
      "2621/2621 [==============================] - 7s 3ms/step - loss: 0.0261 - val_loss: 0.0252\n",
      "Epoch 29/50\n",
      "2621/2621 [==============================] - 7s 3ms/step - loss: 0.0261 - val_loss: 0.0252\n",
      "Epoch 30/50\n",
      "2621/2621 [==============================] - 7s 3ms/step - loss: 0.0262 - val_loss: 0.0252\n",
      "Epoch 31/50\n",
      "2621/2621 [==============================] - 7s 3ms/step - loss: 0.0261 - val_loss: 0.0252\n",
      "Epoch 32/50\n",
      "2621/2621 [==============================] - 7s 3ms/step - loss: 0.0262 - val_loss: 0.0256\n",
      "Epoch 33/50\n",
      "2621/2621 [==============================] - 7s 3ms/step - loss: 0.0261 - val_loss: 0.0251\n",
      "Epoch 34/50\n",
      "2621/2621 [==============================] - 6s 2ms/step - loss: 0.0261 - val_loss: 0.0251\n",
      "Epoch 35/50\n",
      "2621/2621 [==============================] - 7s 3ms/step - loss: 0.0261 - val_loss: 0.0251\n",
      "Epoch 36/50\n",
      "2621/2621 [==============================] - 7s 2ms/step - loss: 0.0261 - val_loss: 0.0251\n",
      "Epoch 37/50\n",
      "2621/2621 [==============================] - 7s 3ms/step - loss: 0.0260 - val_loss: 0.0252\n",
      "Epoch 38/50\n",
      "2621/2621 [==============================] - 8s 3ms/step - loss: 0.0260 - val_loss: 0.0251\n",
      "Epoch 39/50\n",
      "2621/2621 [==============================] - 7s 3ms/step - loss: 0.0260 - val_loss: 0.0252\n",
      "Epoch 40/50\n",
      "2621/2621 [==============================] - 7s 3ms/step - loss: 0.0260 - val_loss: 0.0253\n",
      "Epoch 41/50\n",
      "2621/2621 [==============================] - 8s 3ms/step - loss: 0.0260 - val_loss: 0.0251\n",
      "Epoch 42/50\n",
      "2621/2621 [==============================] - 7s 3ms/step - loss: 0.0260 - val_loss: 0.0251\n",
      "Epoch 43/50\n",
      "2621/2621 [==============================] - 8s 3ms/step - loss: 0.0259 - val_loss: 0.0250\n",
      "Epoch 44/50\n",
      "2621/2621 [==============================] - 7s 3ms/step - loss: 0.0259 - val_loss: 0.0250\n",
      "Epoch 45/50\n",
      "2621/2621 [==============================] - 7s 3ms/step - loss: 0.0260 - val_loss: 0.0250\n",
      "Epoch 46/50\n",
      "2621/2621 [==============================] - 7s 3ms/step - loss: 0.0259 - val_loss: 0.0251\n",
      "Epoch 47/50\n",
      "2621/2621 [==============================] - 7s 3ms/step - loss: 0.0259 - val_loss: 0.0250\n",
      "Epoch 48/50\n",
      "2621/2621 [==============================] - 7s 3ms/step - loss: 0.0260 - val_loss: 0.0253\n",
      "Epoch 49/50\n",
      "2621/2621 [==============================] - 7s 3ms/step - loss: 0.0260 - val_loss: 0.0251\n",
      "Epoch 50/50\n",
      "2621/2621 [==============================] - 7s 3ms/step - loss: 0.0259 - val_loss: 0.0251\n"
     ]
    },
    {
     "data": {
      "text/plain": [
       "<keras.callbacks.History at 0x253f13fb250>"
      ]
     },
     "execution_count": 7,
     "metadata": {},
     "output_type": "execute_result"
    }
   ],
   "source": [
    "# Build the GRU model\n",
    "model = Sequential()\n",
    "model.add(GRU(64, input_shape=(train_data.shape[1], train_data.shape[2]), return_sequences=True))\n",
    "model.add(Dropout(0.5))\n",
    "model.add(Dense(1, activation='linear'))\n",
    "\n",
    "# Compile the model\n",
    "model.compile(optimizer='adam', loss='mse')\n",
    "\n",
    "# Train the model\n",
    "model.fit(train_data, train_target, epochs=50, batch_size=16, validation_data=(val_data, val_target))"
   ]
  },
  {
   "cell_type": "code",
   "execution_count": 9,
   "metadata": {},
   "outputs": [
    {
     "data": {
      "text/html": [
       "<div>\n",
       "<style scoped>\n",
       "    .dataframe tbody tr th:only-of-type {\n",
       "        vertical-align: middle;\n",
       "    }\n",
       "\n",
       "    .dataframe tbody tr th {\n",
       "        vertical-align: top;\n",
       "    }\n",
       "\n",
       "    .dataframe thead th {\n",
       "        text-align: right;\n",
       "    }\n",
       "</style>\n",
       "<table border=\"1\" class=\"dataframe\">\n",
       "  <thead>\n",
       "    <tr style=\"text-align: right;\">\n",
       "      <th></th>\n",
       "      <th>Temperature</th>\n",
       "      <th>Humidity</th>\n",
       "      <th>Windspeed</th>\n",
       "      <th>GeneralDiffuseFlows</th>\n",
       "      <th>DiffuseFlows</th>\n",
       "    </tr>\n",
       "  </thead>\n",
       "  <tbody>\n",
       "    <tr>\n",
       "      <th>0</th>\n",
       "      <td>0.099687</td>\n",
       "      <td>2.897692</td>\n",
       "      <td>0.099687</td>\n",
       "      <td>2.897692</td>\n",
       "      <td>7.147650</td>\n",
       "    </tr>\n",
       "    <tr>\n",
       "      <th>1</th>\n",
       "      <td>0.099861</td>\n",
       "      <td>2.897238</td>\n",
       "      <td>0.099861</td>\n",
       "      <td>2.897238</td>\n",
       "      <td>7.148431</td>\n",
       "    </tr>\n",
       "    <tr>\n",
       "      <th>2</th>\n",
       "      <td>0.099695</td>\n",
       "      <td>2.898284</td>\n",
       "      <td>0.099695</td>\n",
       "      <td>2.898284</td>\n",
       "      <td>7.147984</td>\n",
       "    </tr>\n",
       "    <tr>\n",
       "      <th>3</th>\n",
       "      <td>0.099710</td>\n",
       "      <td>2.898194</td>\n",
       "      <td>0.099710</td>\n",
       "      <td>2.898194</td>\n",
       "      <td>7.148096</td>\n",
       "    </tr>\n",
       "    <tr>\n",
       "      <th>4</th>\n",
       "      <td>0.099835</td>\n",
       "      <td>2.898563</td>\n",
       "      <td>0.099835</td>\n",
       "      <td>2.898563</td>\n",
       "      <td>7.148403</td>\n",
       "    </tr>\n",
       "    <tr>\n",
       "      <th>5</th>\n",
       "      <td>0.099948</td>\n",
       "      <td>2.899177</td>\n",
       "      <td>0.099948</td>\n",
       "      <td>2.899177</td>\n",
       "      <td>7.147817</td>\n",
       "    </tr>\n",
       "  </tbody>\n",
       "</table>\n",
       "</div>"
      ],
      "text/plain": [
       "   Temperature  Humidity  Windspeed  GeneralDiffuseFlows  DiffuseFlows\n",
       "0     0.099687  2.897692   0.099687             2.897692      7.147650\n",
       "1     0.099861  2.897238   0.099861             2.897238      7.148431\n",
       "2     0.099695  2.898284   0.099695             2.898284      7.147984\n",
       "3     0.099710  2.898194   0.099710             2.898194      7.148096\n",
       "4     0.099835  2.898563   0.099835             2.898563      7.148403\n",
       "5     0.099948  2.899177   0.099948             2.899177      7.147817"
      ]
     },
     "execution_count": 9,
     "metadata": {},
     "output_type": "execute_result"
    }
   ],
   "source": [
    "test_factor = pd.read_csv('output.csv')"
   ]
  },
  {
   "cell_type": "code",
   "execution_count": 13,
   "metadata": {},
   "outputs": [],
   "source": [
    "array_data = test_factor.to_numpy()\n",
    "\n",
    "# Reshape the array to have a time step of 1\n",
    "reshaped_array = array_data.reshape(-1, 1, 5)"
   ]
  },
  {
   "cell_type": "code",
   "execution_count": 28,
   "metadata": {},
   "outputs": [
    {
     "name": "stdout",
     "output_type": "stream",
     "text": [
      "1/1 [==============================] - 0s 23ms/step\n"
     ]
    }
   ],
   "source": [
    "# Predict the target values using the test set\n",
    "predicted_target = model.predict(reshaped_array)\n"
   ]
  },
  {
   "cell_type": "code",
   "execution_count": 29,
   "metadata": {},
   "outputs": [
    {
     "data": {
      "text/plain": [
       "array([[[0.49042395]],\n",
       "\n",
       "       [[0.4902262 ]],\n",
       "\n",
       "       [[0.4905204 ]],\n",
       "\n",
       "       [[0.49048874]],\n",
       "\n",
       "       [[0.49051383]],\n",
       "\n",
       "       [[0.49066514]]], dtype=float32)"
      ]
     },
     "execution_count": 29,
     "metadata": {},
     "output_type": "execute_result"
    }
   ],
   "source": [
    "predicted_target"
   ]
  },
  {
   "cell_type": "code",
   "execution_count": 35,
   "metadata": {},
   "outputs": [],
   "source": [
    "array_2d = np.squeeze(predicted_target)\n",
    "array = array_2d.reshape(-1, 1)\n",
    "result = scaler.inverse_transform(array)"
   ]
  },
  {
   "cell_type": "code",
   "execution_count": 36,
   "metadata": {},
   "outputs": [
    {
     "data": {
      "text/plain": [
       "array([[32683.2  ],\n",
       "       [32675.625],\n",
       "       [32686.895],\n",
       "       [32685.682],\n",
       "       [32686.643],\n",
       "       [32692.44 ]], dtype=float32)"
      ]
     },
     "execution_count": 36,
     "metadata": {},
     "output_type": "execute_result"
    }
   ],
   "source": [
    "result"
   ]
  },
  {
   "cell_type": "code",
   "execution_count": null,
   "metadata": {},
   "outputs": [],
   "source": []
  }
 ],
 "metadata": {
  "kernelspec": {
   "display_name": "Python 3.10.7 64-bit",
   "language": "python",
   "name": "python3"
  },
  "language_info": {
   "codemirror_mode": {
    "name": "ipython",
    "version": 3
   },
   "file_extension": ".py",
   "mimetype": "text/x-python",
   "name": "python",
   "nbconvert_exporter": "python",
   "pygments_lexer": "ipython3",
   "version": "3.10.7"
  },
  "orig_nbformat": 4,
  "vscode": {
   "interpreter": {
    "hash": "36cde56293490e079366a9e3f673860244ac2dfff5dc7b3c7a770ee33200b03f"
   }
  }
 },
 "nbformat": 4,
 "nbformat_minor": 2
}
